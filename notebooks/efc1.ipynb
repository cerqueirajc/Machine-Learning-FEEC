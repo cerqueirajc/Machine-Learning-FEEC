{
 "cells": [
  {
   "cell_type": "markdown",
   "metadata": {},
   "source": [
    "## Lista 1 - Disciplina IA006 - Exercícios de Fixação 1"
   ]
  },
  {
   "cell_type": "code",
   "execution_count": 1,
   "metadata": {},
   "outputs": [],
   "source": [
    "import numpy as np\n",
    "import matplotlib.pyplot as plt\n",
    "\n",
    "%matplotlib inline"
   ]
  },
  {
   "cell_type": "code",
   "execution_count": 2,
   "metadata": {},
   "outputs": [],
   "source": [
    "plt.rcParams['figure.figsize'] = (12.0, 8.0)"
   ]
  },
  {
   "cell_type": "code",
   "execution_count": 3,
   "metadata": {},
   "outputs": [],
   "source": [
    "class MyData():\n",
    "    def __init__(self, array):\n",
    "        self.years = array[:, 0].copy()\n",
    "        self.sunspot = array[:, 1:].copy()\n",
    "        \n",
    "        # create 20 features which are delays of the original data\n",
    "        # and remove rows that contains zeros as input features\n",
    "        flat_sunspot = self.sunspot.flatten()\n",
    "        data = np.zeros( (flat_sunspot.shape[0], 21) )\n",
    "        data[:,-1] = flat_sunspot\n",
    "        for i in range(20):\n",
    "            data[(i+1):, i] = flat_sunspot[:-(i+1)]\n",
    "        self.data = data[20:] #drop first 20 lines because of zero'd features\n",
    "        \n",
    "        self.features = self.data[:, :-1]\n",
    "        self.label = self.data[:, -1]\n",
    "        self.nfeatures = self.features.shape[1]\n",
    "        self.nrows = self.features.shape[0]\n",
    "        \n",
    "    def split_kfold(self, k, nktest):\n",
    "        assert (nktest < k), \"Fold selected for test must be within number of K-folds\"\n",
    "        \n",
    "        nrows = self.nrows\n",
    "        nelements = np.ceil(nrows/k)\n",
    "        \n",
    "        mask = np.array([ True if ((i >= nelements*nktest) and (i < nelements*(nktest+1))) \n",
    "                         else False \n",
    "                         for i in range(nrows)],\n",
    "                        dtype='bool')\n",
    "\n",
    "        return mask\n",
    "        "
   ]
  },
  {
   "cell_type": "code",
   "execution_count": 4,
   "metadata": {},
   "outputs": [],
   "source": [
    "class LinearRegressor():\n",
    "    def __init__(self):\n",
    "        self.w = None\n",
    "        self.nfeatures = None\n",
    "        \n",
    "    def fit(self, features, label, reg=0):\n",
    "        assert (reg >= 0), \"Regularization should be non-negative number.\"\n",
    "        \n",
    "        self.nfeatures = features.shape[1]\n",
    "        nlines = features.shape[0]\n",
    "        # first column will be the constant bias\n",
    "        fea = np.hstack( ( np.ones((nlines,1)), features ) )       \n",
    "        \n",
    "        if reg == 0:\n",
    "            self.w = np.linalg.inv( fea.T @ fea ) @ fea.T @ label\n",
    "        if reg  > 0:\n",
    "            pseudo_eye = np.eye(fea.shape[1])\n",
    "            pseudo_eye[0, 0] = 0\n",
    "            self.w = np.linalg.inv( (fea.T @ fea) + (pseudo_eye * reg) ) @ fea.T @ label\n",
    "        return self\n",
    "    \n",
    "    def transform(self, x):\n",
    "        assert (self.w is not None), \"Transformer was not trained yet.\"\n",
    "        assert (x.shape[1] == self.nfeatures), \"Input error: wrong number of columns\"\n",
    "        \n",
    "        if (x.shape[1] == self.nfeatures + 1):\n",
    "            # assuming last column contains label\n",
    "            x_ = x[:, :-1]\n",
    "        else:\n",
    "            x_ = x\n",
    "            \n",
    "        fea = np.zeros( (x_.shape[0], x_.shape[1] + 1) )\n",
    "        fea[:, 0] = 1\n",
    "        fea[:, 1:] = x_\n",
    "        return fea @ self.w"
   ]
  },
  {
   "cell_type": "code",
   "execution_count": 5,
   "metadata": {},
   "outputs": [],
   "source": [
    "class BoolMask():\n",
    "    def __init__(self, nfeatures=20, mask=None):\n",
    "        self.initialize(nfeatures, mask)\n",
    "    \n",
    "    def initialize(self, nfeatures=20, mask=None):\n",
    "        if ((mask is not None) and (nfeatures == mask.shape[0])):\n",
    "            self.mask = mask.copy()\n",
    "        else:\n",
    "            self.mask = np.ones(nfeatures, dtype='bool')\n",
    "        \n",
    "    def remove(self, feature):\n",
    "        self.mask[feature] = False\n",
    "    \n",
    "    def insert(self, feature):\n",
    "        self.mask[feature] = True\n",
    "        \n",
    "    def save(self):\n",
    "        r = BoolMask(mask=self.mask)\n",
    "        return r\n"
   ]
  },
  {
   "cell_type": "code",
   "execution_count": 7,
   "metadata": {},
   "outputs": [],
   "source": [
    "## Auxiliar functions\n",
    "\n",
    "def plot_realvsprediction(y_real, y_prediction, title=None):\n",
    "    plt.plot(y_real, label='Série real')\n",
    "    plt.plot(y_prediction, label='Série estimada')\n",
    "\n",
    "    plt.legend()\n",
    "    plt.xlabel('Meses')\n",
    "    plt.ylabel('Sunspot')\n",
    "    if (title != None):\n",
    "        plt.title(title)\n",
    "    \n",
    "    plt.show()\n",
    "    return\n",
    "\n",
    "def rmse(y_real, y_pred):\n",
    "    e = np.sqrt(np.mean(np.square(y_real - y_pred)))\n",
    "    print('Erro quadrático médio do modelo: ', e)\n",
    "    return e"
   ]
  },
  {
   "cell_type": "code",
   "execution_count": 8,
   "metadata": {},
   "outputs": [],
   "source": [
    "fname = '../data/sunspot.txt'\n",
    "data = np.loadtxt(fname)\n",
    "dt = MyData(data)"
   ]
  },
  {
   "cell_type": "code",
   "execution_count": 13,
   "metadata": {},
   "outputs": [
    {
     "name": "stdout",
     "output_type": "stream",
     "text": [
      "235\n"
     ]
    }
   ],
   "source": [
    "def unit_test():\n",
    "    model = LinearRegressor()\n",
    "    model.fit(dt.features, dt.label)\n",
    "    y_predict = model.transform(dt.features)\n",
    "    y_real = dt.label\n",
    "    mse = np.mean(np.power(y_real - y_predict, 2))\n",
    "    print(int(mse))\n",
    "    assert(int(mse) == 235) # this is just a known value\n",
    "unit_test()"
   ]
  },
  {
   "cell_type": "code",
   "execution_count": 19,
   "metadata": {},
   "outputs": [
    {
     "name": "stdout",
     "output_type": "stream",
     "text": [
      "Erro quadrático médio do modelo:  41.317030506270584\n",
      "[4.75647352e+01 5.29274702e-03 5.09580801e-03 4.99802940e-03\n",
      " 4.92021090e-03 4.82895008e-03 4.74931580e-03 4.63827144e-03\n",
      " 4.55297934e-03 4.49092313e-03 4.37587880e-03 4.24822156e-03\n",
      " 4.10500594e-03 3.95030171e-03 3.82202847e-03 3.67148278e-03\n",
      " 3.48347128e-03 3.31505824e-03 3.12188159e-03 2.96325022e-03\n",
      " 2.78771513e-03]\n"
     ]
    }
   ],
   "source": [
    "model = LinearRegressor()\n",
    "model.fit(dt.features, dt.label, reg=1000000000)\n",
    "y_predict = model.transform(dt.features)\n",
    "y_real = dt.label\n",
    "rmse(y_real, y_predict)\n",
    "print(model.w)"
   ]
  },
  {
   "cell_type": "code",
   "execution_count": 20,
   "metadata": {},
   "outputs": [
    {
     "data": {
      "text/plain": [
       "(3172, 19)"
      ]
     },
     "execution_count": 20,
     "metadata": {},
     "output_type": "execute_result"
    }
   ],
   "source": [
    "m = BoolMask()\n",
    "m.remove(17)\n",
    "b = m.save()\n",
    "m.insert(17)\n",
    "m.mask\n",
    "b.mask\n",
    "dt.features[:,b.mask].shape"
   ]
  },
  {
   "cell_type": "code",
   "execution_count": 24,
   "metadata": {},
   "outputs": [],
   "source": [
    "def get_kfold_function(data, k):\n",
    "    def clojure(n):\n",
    "        return data.split_kfold(k, n)\n",
    "    return clojure\n",
    "    \n",
    "kf10 = get_kfold_function(dt,10)"
   ]
  },
  {
   "cell_type": "code",
   "execution_count": 25,
   "metadata": {},
   "outputs": [
    {
     "data": {
      "text/plain": [
       "[<matplotlib.lines.Line2D at 0x1c0701575f8>]"
      ]
     },
     "execution_count": 25,
     "metadata": {},
     "output_type": "execute_result"
    },
    {
     "data": {
      "image/png": "[encoded data removed]",
      "text/plain": [
       "<Figure size 864x576 with 1 Axes>"
      ]
     },
     "metadata": {
      "needs_background": "light"
     },
     "output_type": "display_data"
    }
   ],
   "source": [
    "plt.plot(kf10(7))"
   ]
  },
  {
   "cell_type": "code",
   "execution_count": null,
   "metadata": {},
   "outputs": [],
   "source": []
  }
 ],
 "metadata": {
  "kernelspec": {
   "display_name": "Python 3",
   "language": "python",
   "name": "python3"
  },
  "language_info": {
   "codemirror_mode": {
    "name": "ipython",
    "version": 3
   },
   "file_extension": ".py",
   "mimetype": "text/x-python",
   "name": "python",
   "nbconvert_exporter": "python",
   "pygments_lexer": "ipython3",
   "version": "3.7.3"
  }
 },
 "nbformat": 4,
 "nbformat_minor": 2
}
